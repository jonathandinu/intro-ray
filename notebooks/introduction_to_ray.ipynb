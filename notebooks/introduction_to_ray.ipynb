{
  "nbformat": 4,
  "nbformat_minor": 0,
  "metadata": {
    "colab": {
      "name": "introduction-to-ray.ipynb",
      "provenance": [],
      "authorship_tag": "ABX9TyMxUlGhfGKlyk57L7M/nW74",
      "include_colab_link": true
    },
    "kernelspec": {
      "name": "python3",
      "display_name": "Python 3"
    },
    "language_info": {
      "name": "python"
    }
  },
  "cells": [
    {
      "cell_type": "markdown",
      "metadata": {
        "id": "view-in-github",
        "colab_type": "text"
      },
      "source": [
        "<a href=\"https://colab.research.google.com/github/clearspandex/distributed-ml-ray/blob/main/notebooks/introduction_to_ray.ipynb\" target=\"_parent\"><img src=\"https://colab.research.google.com/assets/colab-badge.svg\" alt=\"Open In Colab\"/></a>"
      ]
    },
    {
      "cell_type": "code",
      "execution_count": 1,
      "metadata": {
        "colab": {
          "base_uri": "https://localhost:8080/"
        },
        "id": "3SP8fcPUvSpb",
        "outputId": "03680f81-0308-4159-c70a-303c22838532"
      },
      "outputs": [
        {
          "output_type": "stream",
          "name": "stdout",
          "text": [
            "Looking in indexes: https://pypi.org/simple, https://us-python.pkg.dev/colab-wheels/public/simple/\n",
            "Requirement already satisfied: ray in /usr/local/lib/python3.7/dist-packages (1.13.0)\n",
            "Requirement already satisfied: requests in /usr/local/lib/python3.7/dist-packages (2.23.0)\n",
            "Requirement already satisfied: faker in /usr/local/lib/python3.7/dist-packages (13.14.0)\n",
            "Requirement already satisfied: jsonschema in /usr/local/lib/python3.7/dist-packages (from ray) (4.3.3)\n",
            "Requirement already satisfied: frozenlist in /usr/local/lib/python3.7/dist-packages (from ray) (1.3.0)\n",
            "Requirement already satisfied: attrs in /usr/local/lib/python3.7/dist-packages (from ray) (21.4.0)\n",
            "Requirement already satisfied: click<=8.0.4,>=7.0 in /usr/local/lib/python3.7/dist-packages (from ray) (7.1.2)\n",
            "Requirement already satisfied: numpy>=1.16 in /usr/local/lib/python3.7/dist-packages (from ray) (1.21.6)\n",
            "Requirement already satisfied: msgpack<2.0.0,>=1.0.0 in /usr/local/lib/python3.7/dist-packages (from ray) (1.0.4)\n",
            "Requirement already satisfied: virtualenv in /usr/local/lib/python3.7/dist-packages (from ray) (20.15.1)\n",
            "Requirement already satisfied: grpcio<=1.43.0,>=1.28.1 in /usr/local/lib/python3.7/dist-packages (from ray) (1.43.0)\n",
            "Requirement already satisfied: aiosignal in /usr/local/lib/python3.7/dist-packages (from ray) (1.2.0)\n",
            "Requirement already satisfied: pyyaml in /usr/local/lib/python3.7/dist-packages (from ray) (3.13)\n",
            "Requirement already satisfied: protobuf<4.0.0,>=3.15.3 in /usr/local/lib/python3.7/dist-packages (from ray) (3.17.3)\n",
            "Requirement already satisfied: filelock in /usr/local/lib/python3.7/dist-packages (from ray) (3.7.1)\n",
            "Requirement already satisfied: six>=1.5.2 in /usr/local/lib/python3.7/dist-packages (from grpcio<=1.43.0,>=1.28.1->ray) (1.15.0)\n",
            "Requirement already satisfied: chardet<4,>=3.0.2 in /usr/local/lib/python3.7/dist-packages (from requests) (3.0.4)\n",
            "Requirement already satisfied: certifi>=2017.4.17 in /usr/local/lib/python3.7/dist-packages (from requests) (2022.6.15)\n",
            "Requirement already satisfied: idna<3,>=2.5 in /usr/local/lib/python3.7/dist-packages (from requests) (2.10)\n",
            "Requirement already satisfied: urllib3!=1.25.0,!=1.25.1,<1.26,>=1.21.1 in /usr/local/lib/python3.7/dist-packages (from requests) (1.24.3)\n",
            "Requirement already satisfied: typing-extensions>=3.10.0.2 in /usr/local/lib/python3.7/dist-packages (from faker) (4.1.1)\n",
            "Requirement already satisfied: python-dateutil>=2.4 in /usr/local/lib/python3.7/dist-packages (from faker) (2.8.2)\n",
            "Requirement already satisfied: importlib-resources>=1.4.0 in /usr/local/lib/python3.7/dist-packages (from jsonschema->ray) (5.7.1)\n",
            "Requirement already satisfied: importlib-metadata in /usr/local/lib/python3.7/dist-packages (from jsonschema->ray) (4.11.4)\n",
            "Requirement already satisfied: pyrsistent!=0.17.0,!=0.17.1,!=0.17.2,>=0.14.0 in /usr/local/lib/python3.7/dist-packages (from jsonschema->ray) (0.18.1)\n",
            "Requirement already satisfied: zipp>=3.1.0 in /usr/local/lib/python3.7/dist-packages (from importlib-resources>=1.4.0->jsonschema->ray) (3.8.0)\n",
            "Requirement already satisfied: platformdirs<3,>=2 in /usr/local/lib/python3.7/dist-packages (from virtualenv->ray) (2.5.2)\n",
            "Requirement already satisfied: distlib<1,>=0.3.1 in /usr/local/lib/python3.7/dist-packages (from virtualenv->ray) (0.3.4)\n"
          ]
        }
      ],
      "source": [
        "!pip install ray requests faker"
      ]
    },
    {
      "cell_type": "markdown",
      "source": [
        "## Introduction to Ray Core"
      ],
      "metadata": {
        "id": "-T3DqeRwaYF6"
      }
    },
    {
      "cell_type": "markdown",
      "source": [
        "### Ray Tasks"
      ],
      "metadata": {
        "id": "TuIT4xUTagIV"
      }
    },
    {
      "cell_type": "code",
      "source": [
        "import requests\n",
        "\n",
        "internet = requests.get('https://moz.com/top-500/download?table=top500Domains').text\n",
        "internet"
      ],
      "metadata": {
        "colab": {
          "base_uri": "https://localhost:8080/",
          "height": 105
        },
        "id": "XCOMS4NtaZY9",
        "outputId": "f79669c7-9123-402c-f935-1876cb59e92c"
      },
      "execution_count": 2,
      "outputs": [
        {
          "output_type": "execute_result",
          "data": {
            "text/plain": [
              "'\"Rank\",\"Root Domain\",\"Linking Root Domains\",\"Domain Authority\"\\n\"1\",\"youtube.com\",\"22,224,825\",\"100\"\\n\"2\",\"www.google.com\",\"14,111,479\",\"100\"\\n\"3\",\"apple.com\",\"6,384,326\",\"100\"\\n\"4\",\"microsoft.com\",\"5,119,715\",\"99\"\\n\"5\",\"www.blogger.com\",\"29,474,909\",\"99\"\\n\"6\",\"support.google.com\",\"5,271,264\",\"99\"\\n\"7\",\"play.google.com\",\"3,772,424\",\"99\"\\n\"8\",\"linkedin.com\",\"11,641,656\",\"99\"\\n\"9\",\"docs.google.com\",\"3,220,890\",\"98\"\\n\"10\",\"youtu.be\",\"5,050,850\",\"98\"\\n\"11\",\"maps.google.com\",\"5,793,320\",\"98\"\\n\"12\",\"wordpress.org\",\"11,733,715\",\"98\"\\n\"13\",\"en.wikipedia.org\",\"6,902,193\",\"98\"\\n\"14\",\"cloudflare.com\",\"6,282,712\",\"98\"\\n\"15\",\"mozilla.org\",\"2,350,527\",\"98\"\\n\"16\",\"adobe.com\",\"2,852,435\",\"97\"\\n\"17\",\"drive.google.com\",\"2,367,379\",\"97\"\\n\"18\",\"europa.eu\",\"2,163,424\",\"97\"\\n\"19\",\"plus.google.com\",\"11,283,101\",\"97\"\\n\"20\",\"googleusercontent.com\",\"3,227,896\",\"97\"\\n\"21\",\"bp.blogspot.com\",\"17,673,836\",\"97\"\\n\"22\",\"accounts.google.com\",\"2,559,900\",\"97\"\\n\"23\",\"sites.google.com\",\"2,167,331\",\"97\"\\n\"24\",\"whatsapp.com\",\"3,440,334\",\"97\"\\n\"25\",\"vimeo.com\",\"3,525,711\",\"96\"\\n\"26\",\"facebook.com\",\"58,109,869\",\"96\"\\n\"27\",\"vk.com\",\"1,770,305\",\"96\"\\n\"28\",\"uol.com.br\",\"683,898\",\"96\"\\n\"29\",\"github.com\",\"2,748,249\",\"96\"\\n\"30\",\"istockphoto.com\",\"3,566,801\",\"96\"\\n\"31\",\"t.me\",\"1,115,452\",\"96\"\\n\"32\",\"es.wikipedia.org\",\"953,769\",\"96\"\\n\"33\",\"amazon.com\",\"4,907,438\",\"96\"\\n\"34\",\"forbes.com\",\"1,410,336\",\"95\"\\n\"35\",\"developers.google.com\",\"1,105,838\",\"95\"\\n\"36\",\"search.google.com\",\"1,397,099\",\"95\"\\n\"37\",\"enable-javascript.com\",\"8,835,902\",\"95\"\\n\"38\",\"fr.wikipedia.org\",\"631,839\",\"95\"\\n\"39\",\"paypal.com\",\"1,111,716\",\"95\"\\n\"40\",\"mail.ru\",\"484,507\",\"95\"\\n\"41\",\"www.yahoo.com\",\"1,338,314\",\"95\"\\n\"42\",\"pt.wikipedia.org\",\"416,629\",\"95\"\\n\"43\",\"gravatar.com\",\"12,240,441\",\"95\"\\n\"44\",\"dropbox.com\",\"1,095,598\",\"95\"\\n\"45\",\"line.me\",\"854,880\",\"95\"\\n\"46\",\"slideshare.net\",\"1,006,086\",\"95\"\\n\"47\",\"policies.google.com\",\"2,509,675\",\"95\"\\n\"48\",\"ok.ru\",\"359,820\",\"95\"\\n\"49\",\"dan.com\",\"3,622,323\",\"95\"\\n\"50\",\"brandbucket.com\",\"11,179,509\",\"95\"\\n\"51\",\"google.co.jp\",\"657,409\",\"95\"\\n\"52\",\"myspace.com\",\"1,381,673\",\"95\"\\n\"53\",\"www.weebly.com\",\"4,941,445\",\"95\"\\n\"54\",\"youronlinechoices.com\",\"571,475\",\"95\"\\n\"55\",\"dailymotion.com\",\"1,138,557\",\"95\"\\n\"56\",\"news.google.com\",\"783,026\",\"95\"\\n\"57\",\"google.es\",\"474,755\",\"95\"\\n\"58\",\"creativecommons.org\",\"1,720,100\",\"95\"\\n\"59\",\"google.com.br\",\"295,050\",\"95\"\\n\"60\",\"medium.com\",\"1,702,909\",\"95\"\\n\"61\",\"jimdofree.com\",\"1,718,494\",\"95\"\\n\"62\",\"feedburner.com\",\"1,797,690\",\"95\"\\n\"63\",\"globo.com\",\"448,169\",\"95\"\\n\"64\",\"bbc.com\",\"908,922\",\"95\"\\n\"65\",\"gstatic.com\",\"622,155\",\"95\"\\n\"66\",\"bbc.co.uk\",\"1,733,331\",\"95\"\\n\"67\",\"nih.gov\",\"1,423,136\",\"95\"\\n\"68\",\"cnn.com\",\"1,621,557\",\"95\"\\n\"69\",\"wikimedia.org\",\"2,006,927\",\"95\"\\n\"70\",\"tools.google.com\",\"1,716,668\",\"95\"\\n\"71\",\"files.wordpress.com\",\"7,629,695\",\"95\"\\n\"72\",\"google.de\",\"1,126,668\",\"95\"\\n\"73\",\"nytimes.com\",\"2,172,288\",\"95\"\\n\"74\",\"live.com\",\"916,603\",\"95\"\\n\"75\",\"who.int\",\"1,995,606\",\"95\"\\n\"76\",\"imdb.com\",\"1,509,666\",\"95\"\\n\"77\",\"theguardian.com\",\"1,569,991\",\"95\"\\n\"78\",\"google.it\",\"443,962\",\"94\"\\n\"79\",\"researchgate.net\",\"688,656\",\"94\"\\n\"80\",\"aliexpress.com\",\"517,218\",\"94\"\\n\"81\",\"get.google.com\",\"648,464\",\"94\"\\n\"82\",\"elpais.com\",\"426,012\",\"94\"\\n\"83\",\"www.gov.uk\",\"622,966\",\"94\"\\n\"84\",\"domainmarket.com\",\"1,212,414\",\"94\"\\n\"85\",\"wsj.com\",\"980,635\",\"94\"\\n\"86\",\"dailymail.co.uk\",\"1,111,749\",\"94\"\\n\"87\",\"photos.google.com\",\"278,399\",\"94\"\\n\"88\",\"cdc.gov\",\"892,559\",\"94\"\\n\"89\",\"4shared.com\",\"559,933\",\"94\"\\n\"90\",\"amazon.co.jp\",\"856,978\",\"94\"\\n\"91\",\"fandom.com\",\"599,990\",\"94\"\\n\"92\",\"ytimg.com\",\"881,231\",\"94\"\\n\"93\",\"yandex.ru\",\"1,015,720\",\"94\"\\n\"94\",\"ft.com\",\"495,020\",\"94\"\\n\"95\",\"huffingtonpost.com\",\"1,088,492\",\"94\"\\n\"96\",\"cpanel.com\",\"1,220,099\",\"94\"\\n\"97\",\"soundcloud.com\",\"1,820,277\",\"94\"\\n\"98\",\"nature.com\",\"606,483\",\"94\"\\n\"99\",\"pixabay.com\",\"465,263\",\"94\"\\n\"100\",\"amazon.co.uk\",\"779,169\",\"94\"\\n\"101\",\"independent.co.uk\",\"762,270\",\"94\"\\n\"102\",\"google.pl\",\"208,493\",\"94\"\\n\"103\",\"yadi.sk\",\"178,379\",\"94\"\\n\"104\",\"cbsnews.com\",\"611,700\",\"94\"\\n\"105\",\"twitter.com\",\"59,312,389\",\"94\"\\n\"106\",\"hatena.ne.jp\",\"1,508,244\",\"94\"\\n\"107\",\"abril.com.br\",\"273,413\",\"94\"\\n\"108\",\"android.com\",\"314,839\",\"94\"\\n\"109\",\"estadao.com.br\",\"134,219\",\"94\"\\n\"110\",\"google.ru\",\"199,267\",\"94\"\\n\"111\",\"washingtonpost.com\",\"1,158,366\",\"94\"\\n\"112\",\"draft.blogger.com\",\"10,810,373\",\"94\"\\n\"113\",\"usatoday.com\",\"853,747\",\"94\"\\n\"114\",\"amazon.de\",\"555,989\",\"94\"\\n\"115\",\"scribd.com\",\"768,847\",\"94\"\\n\"116\",\"list-manage.com\",\"784,076\",\"94\"\\n\"117\",\"storage.googleapis.com\",\"824,260\",\"94\"\\n\"118\",\"mediafire.com\",\"856,939\",\"94\"\\n\"119\",\"buydomains.com\",\"1,075,130\",\"94\"\\n\"120\",\"archive.org\",\"1,163,857\",\"94\"\\n\"121\",\"mail.google.com\",\"494,737\",\"94\"\\n\"122\",\"telegram.me\",\"361,969\",\"94\"\\n\"123\",\"it.wikipedia.org\",\"338,185\",\"94\"\\n\"124\",\"un.org\",\"595,258\",\"94\"\\n\"125\",\"networkadvertising.org\",\"727,189\",\"94\"\\n\"126\",\"webmd.com\",\"742,903\",\"94\"\\n\"127\",\"w3.org\",\"1,134,669\",\"94\"\\n\"128\",\"netvibes.com\",\"1,215,437\",\"94\"\\n\"129\",\"afternic.com\",\"2,819,699\",\"94\"\\n\"130\",\"nasa.gov\",\"678,180\",\"94\"\\n\"131\",\"office.com\",\"532,175\",\"94\"\\n\"132\",\"pinterest.com\",\"8,520,850\",\"94\"\\n\"133\",\"aboutads.info\",\"605,878\",\"94\"\\n\"134\",\"harvard.edu\",\"759,677\",\"94\"\\n\"135\",\"booking.com\",\"403,135\",\"94\"\\n\"136\",\"reuters.com\",\"928,535\",\"94\"\\n\"137\",\"opera.com\",\"924,027\",\"94\"\\n\"138\",\"news.yahoo.com\",\"689,411\",\"94\"\\n\"139\",\"bit.ly\",\"4,856,839\",\"94\"\\n\"140\",\"google.co.uk\",\"598,037\",\"94\"\\n\"141\",\"shopify.com\",\"2,391,535\",\"94\"\\n\"142\",\"cnet.com\",\"733,330\",\"94\"\\n\"143\",\"telegraph.co.uk\",\"998,823\",\"94\"\\n\"144\",\"ig.com.br\",\"157,097\",\"94\"\\n\"145\",\"msn.com\",\"1,106,183\",\"94\"\\n\"146\",\"de.wikipedia.org\",\"674,763\",\"94\"\\n\"147\",\"terra.com.br\",\"204,580\",\"94\"\\n\"148\",\"picasaweb.google.com\",\"636,959\",\"94\"\\n\"149\",\"bloomberg.com\",\"852,241\",\"94\"\\n\"150\",\"time.com\",\"823,367\",\"94\"\\n\"151\",\"amazon.es\",\"189,435\",\"94\"\\n\"152\",\"issuu.com\",\"990,409\",\"94\"\\n\"153\",\"tinyurl.com\",\"1,422,634\",\"94\"\\n\"154\",\"wikia.com\",\"511,073\",\"94\"\\n\"155\",\"t.co\",\"2,120,490\",\"94\"\\n\"156\",\"wp.com\",\"2,024,496\",\"94\"\\n\"157\",\"thesun.co.uk\",\"413,328\",\"94\"\\n\"158\",\"sedo.com\",\"2,229,068\",\"94\"\\n\"159\",\"goo.gl\",\"4,649,520\",\"94\"\\n\"160\",\"cpanel.net\",\"1,678,956\",\"94\"\\n\"161\",\"google.fr\",\"411,104\",\"94\"\\n\"162\",\"marketingplatform.google....\",\"855,747\",\"94\"\\n\"163\",\"businessinsider.com\",\"881,893\",\"94\"\\n\"164\",\"fb.com\",\"455,582\",\"94\"\\n\"165\",\"ru.wikipedia.org\",\"377,871\",\"94\"\\n\"166\",\"huffpost.com\",\"1,207,160\",\"94\"\\n\"167\",\"forms.gle\",\"717,321\",\"94\"\\n\"168\",\"mirror.co.uk\",\"409,135\",\"94\"\\n\"169\",\"foxnews.com\",\"584,301\",\"94\"\\n\"170\",\"wa.me\",\"1,184,044\",\"94\"\\n\"171\",\"imageshack.us\",\"817,370\",\"94\"\\n\"172\",\"namecheap.com\",\"1,136,805\",\"94\"\\n\"173\",\"change.org\",\"498,058\",\"94\"\\n\"174\",\"indiatimes.com\",\"475,683\",\"94\"\\n\"175\",\"tiktok.com\",\"568,598\",\"94\"\\n\"176\",\"plesk.com\",\"700,910\",\"94\"\\n\"177\",\"shutterstock.com\",\"508,787\",\"94\"\\n\"178\",\"ftc.gov\",\"285,899\",\"93\"\\n\"179\",\"liveinternet.ru\",\"343,856\",\"93\"\\n\"180\",\"aol.com\",\"694,523\",\"93\"\\n\"181\",\"canada.ca\",\"270,951\",\"93\"\\n\"182\",\"google.ca\",\"343,580\",\"93\"\\n\"183\",\"spiegel.de\",\"367,443\",\"93\"\\n\"184\",\"engadget.com\",\"450,714\",\"93\"\\n\"185\",\"offset.com\",\"1,503,256\",\"93\"\\n\"186\",\"lemonde.fr\",\"272,369\",\"93\"\\n\"187\",\"nginx.org\",\"727,576\",\"93\"\\n\"188\",\"sciencedirect.com\",\"639,760\",\"93\"\\n\"189\",\"biglobe.ne.jp\",\"241,064\",\"93\"\\n\"190\",\"rambler.ru\",\"831,852\",\"93\"\\n\"191\",\"mit.edu\",\"707,634\",\"93\"\\n\"192\",\"wired.com\",\"683,649\",\"93\"\\n\"193\",\"nginx.com\",\"639,598\",\"93\"\\n\"194\",\"addthis.com\",\"668,069\",\"93\"\\n\"195\",\"stanford.edu\",\"641,338\",\"93\"\\n\"196\",\"wikihow.com\",\"601,572\",\"93\"\\n\"197\",\"hollywoodreporter.com\",\"295,243\",\"93\"\\n\"198\",\"clickbank.net\",\"487,380\",\"93\"\\n\"199\",\"smh.com.au\",\"314,793\",\"93\"\\n\"200\",\"yandex.com\",\"1,527,689\",\"93\"\\n\"201\",\"amzn.to\",\"934,417\",\"93\"\\n\"202\",\"guardian.co.uk\",\"612,245\",\"93\"\\n\"203\",\"ria.ru\",\"197,366\",\"93\"\\n\"204\",\"eventbrite.com\",\"650,311\",\"93\"\\n\"205\",\"ibm.com\",\"518,371\",\"93\"\\n\"206\",\"dreamstime.com\",\"419,945\",\"93\"\\n\"207\",\"cbc.ca\",\"492,461\",\"93\"\\n\"208\",\"mystrikingly.com\",\"373,166\",\"93\"\\n\"209\",\"naver.com\",\"510,744\",\"93\"\\n\"210\",\"francetvinfo.fr\",\"174,269\",\"93\"\\n\"211\",\"spotify.com\",\"1,507,346\",\"93\"\\n\"212\",\"nationalgeographic.com\",\"641,896\",\"93\"\\n\"213\",\"wiley.com\",\"623,000\",\"93\"\\n\"214\",\"abcnews.go.com\",\"583,748\",\"93\"\\n\"215\",\"gnu.org\",\"585,704\",\"93\"\\n\"216\",\"newsweek.com\",\"387,990\",\"93\"\\n\"217\",\"thenai.org\",\"496,279\",\"93\"\\n\"218\",\"doubleclick.net\",\"598,400\",\"93\"\\n\"219\",\"www.wix.com\",\"721,714\",\"93\"\\n\"220\",\"xbox.com\",\"200,055\",\"93\"\\n\"221\",\"ovh.net\",\"555,851\",\"93\"\\n\"222\",\"abc.net.au\",\"418,315\",\"93\"\\n\"223\",\"espn.com\",\"395,645\",\"93\"\\n\"224\",\"economist.com\",\"388,291\",\"93\"\\n\"225\",\"walmart.com\",\"345,759\",\"93\"\\n\"226\",\"washington.edu\",\"374,794\",\"93\"\\n\"227\",\"disney.com\",\"253,854\",\"93\"\\n\"228\",\"doi.org\",\"507,117\",\"93\"\\n\"229\",\"mashable.com\",\"439,622\",\"93\"\\n\"230\",\"alicdn.com\",\"514,305\",\"93\"\\n\"231\",\"adssettings.google.com\",\"391,135\",\"93\"\\n\"232\",\"welt.de\",\"267,316\",\"93\"\\n\"233\",\"www.over-blog.com\",\"816,777\",\"93\"\\n\"234\",\"clarin.com\",\"146,333\",\"93\"\\n\"235\",\"20minutos.es\",\"174,580\",\"93\"\\n\"236\",\"bandcamp.com\",\"615,181\",\"93\"\\n\"237\",\"huawei.com\",\"1,932,900\",\"93\"\\n\"238\",\"skype.com\",\"441,811\",\"93\"\\n\"239\",\"yelp.com\",\"936,222\",\"93\"\\n\"240\",\"icann.org\",\"633,096\",\"93\"\\n\"241\",\"pl.wikipedia.org\",\"150,523\",\"93\"\\n\"242\",\"amazon.fr\",\"255,427\",\"93\"\\n\"243\",\"m.wikipedia.org\",\"319,146\",\"93\"\\n\"244\",\"newyorker.com\",\"432,266\",\"93\"\\n\"245\",\"lexpress.fr\",\"120,195\",\"93\"\\n\"246\",\"ziddu.com\",\"190,176\",\"93\"\\n\"247\",\"search.yahoo.com\",\"463,155\",\"93\"\\n\"248\",\"pinterest.de\",\"133,190\",\"93\"\\n\"249\",\"berkeley.edu\",\"492,671\",\"93\"\\n\"250\",\"discord.gg\",\"332,968\",\"93\"\\n\"251\",\"latimes.com\",\"738,956\",\"93\"\\n\"252\",\"ucoz.ru\",\"184,825\",\"93\"\\n\"253\",\"steampowered.com\",\"285,692\",\"93\"\\n\"254\",\"target.com\",\"297,117\",\"93\"\\n\"255\",\"instructables.com\",\"354,184\",\"93\"\\n\"256\",\"ouest-france.fr\",\"122,662\",\"93\"\\n\"257\",\"blog.fc2.com\",\"386,961\",\"93\"\\n\"258\",\"academia.edu\",\"387,202\",\"93\"\\n\"259\",\"translate.google.com\",\"298,421\",\"93\"\\n\"260\",\"groups.google.com\",\"357,041\",\"93\"\\n\"261\",\"ovh.com\",\"517,212\",\"93\"\\n\"262\",\"deezer.com\",\"164,592\",\"93\"\\n\"263\",\"pinterest.fr\",\"127,980\",\"93\"\\n\"264\",\"arxiv.org\",\"245,912\",\"93\"\\n\"265\",\"twitch.tv\",\"455,292\",\"93\"\\n\"266\",\"vice.com\",\"407,245\",\"93\"\\n\"267\",\"sapo.pt\",\"233,143\",\"93\"\\n\"268\",\"playstation.com\",\"249,328\",\"93\"\\n\"269\",\"ca.gov\",\"514,532\",\"93\"\\n\"270\",\"akamaihd.net\",\"586,029\",\"93\"\\n\"271\",\"netlify.app\",\"376,169\",\"93\"\\n\"272\",\"apache.org\",\"988,473\",\"93\"\\n\"273\",\"fb.me\",\"332,427\",\"93\"\\n\"274\",\"ja.wikipedia.org\",\"365,476\",\"93\"\\n\"275\",\"discord.com\",\"371,616\",\"93\"\\n\"276\",\"sciencedaily.com\",\"368,388\",\"93\"\\n\"277\",\"ted.com\",\"635,219\",\"93\"\\n\"278\",\"express.co.uk\",\"376,268\",\"93\"\\n\"279\",\"sfgate.com\",\"388,203\",\"93\"\\n\"280\",\"whitehouse.gov\",\"400,986\",\"93\"\\n\"281\",\"insider.com\",\"351,518\",\"93\"\\n\"282\",\"nydailynews.com\",\"396,800\",\"93\"\\n\"283\",\"linktr.ee\",\"379,136\",\"93\"\\n\"284\",\"google.co.in\",\"277,453\",\"93\"\\n\"285\",\"bp2.blogger.com\",\"555,711\",\"93\"\\n\"286\",\"samsung.com\",\"392,554\",\"93\"\\n\"287\",\"lavanguardia.com\",\"152,652\",\"93\"\\n\"288\",\"elmundo.es\",\"241,216\",\"93\"\\n\"289\",\"sputniknews.com\",\"192,897\",\"93\"\\n\"290\",\"akamaized.net\",\"317,183\",\"93\"\\n\"291\",\"mega.nz\",\"185,363\",\"93\"\\n\"292\",\"usnews.com\",\"456,060\",\"93\"\\n\"293\",\"oup.com\",\"413,967\",\"93\"\\n\"294\",\"instagram.com\",\"26,561,071\",\"93\"\\n\"295\",\"id.wikipedia.org\",\"533,056\",\"93\"\\n\"296\",\"nypost.com\",\"421,334\",\"93\"\\n\"297\",\"weibo.com\",\"1,409,426\",\"93\"\\n\"298\",\"detik.com\",\"422,978\",\"93\"\\n\"299\",\"www.wikipedia.org\",\"537,427\",\"93\"\\n\"300\",\"gizmodo.com\",\"409,802\",\"93\"\\n\"301\",\"quora.com\",\"436,459\",\"93\"\\n\"302\",\"freepik.com\",\"338,138\",\"93\"\\n\"303\",\"www.gov.br\",\"151,722\",\"93\"\\n\"304\",\"psychologytoday.com\",\"382,059\",\"93\"\\n\"305\",\"ietf.org\",\"389,263\",\"93\"\\n\"306\",\"hugedomains.com\",\"16,068,902\",\"93\"\\n\"307\",\"finance.yahoo.com\",\"482,331\",\"93\"\\n\"308\",\"code.google.com\",\"326,711\",\"93\"\\n\"309\",\"addtoany.com\",\"711,161\",\"93\"\\n\"310\",\"hp.com\",\"483,309\",\"93\"\\n\"311\",\"secureserver.net\",\"959,368\",\"93\"\\n\"312\",\"photos1.blogger.com\",\"879,214\",\"93\"\\n\"313\",\"tripadvisor.com\",\"715,319\",\"93\"\\n\"314\",\"pexels.com\",\"332,757\",\"93\"\\n\"315\",\"lefigaro.fr\",\"226,014\",\"93\"\\n\"316\",\"rtve.es\",\"188,162\",\"93\"\\n\"317\",\"oracle.com\",\"604,158\",\"93\"\\n\"318\",\"gooyaabitemplates.com\",\"500,192\",\"93\"\\n\"319\",\"dw.com\",\"392,757\",\"93\"\\n\"320\",\"outlook.com\",\"355,256\",\"93\"\\n\"321\",\"bing.com\",\"1,022,279\",\"93\"\\n\"322\",\"abc.es\",\"206,344\",\"93\"\\n\"323\",\"hubspot.com\",\"328,091\",\"93\"\\n\"324\",\"standard.co.uk\",\"256,463\",\"93\"\\n\"325\",\"alexa.com\",\"323,159\",\"93\"\\n\"326\",\"e-monsite.com\",\"148,027\",\"93\"\\n\"327\",\"surveymonkey.com\",\"452,445\",\"93\"\\n\"328\",\"bitly.com\",\"441,228\",\"93\"\\n\"329\",\"cnil.fr\",\"219,882\",\"93\"\\n\"330\",\"pbs.org\",\"545,120\",\"93\"\\n\"331\",\"rt.com\",\"321,550\",\"93\"\\n\"332\",\"unesco.org\",\"336,326\",\"93\"\\n\"333\",\"zoom.us\",\"645,419\",\"93\"\\n\"334\",\"ebay.com\",\"951,070\",\"93\"\\n\"335\",\"zdf.de\",\"144,564\",\"93\"\\n\"336\",\"sciencemag.org\",\"326,671\",\"93\"\\n\"337\",\"gofundme.com\",\"353,812\",\"93\"\\n\"338\",\"techcrunch.com\",\"512,754\",\"93\"\\n\"339\",\"cornell.edu\",\"457,605\",\"93\"\\n\"340\",\"cnbc.com\",\"564,216\",\"93\"\\n\"341\",\"picasa.google.com\",\"257,348\",\"93\"\\n\"342\",\"godaddy.com\",\"2,518,633\",\"93\"\\n\"343\",\"theatlantic.com\",\"575,839\",\"93\"\\n\"344\",\"windows.net\",\"379,372\",\"93\"\\n\"345\",\"ggpht.com\",\"778,905\",\"93\"\\n\"346\",\"buzzfeed.com\",\"619,882\",\"93\"\\n\"347\",\"timeweb.ru\",\"596,591\",\"93\"\\n\"348\",\"britannica.com\",\"500,656\",\"93\"\\n\"349\",\"privacyshield.gov\",\"433,285\",\"93\"\\n\"350\",\"zendesk.com\",\"520,896\",\"93\"\\n\"351\",\"yahoo.co.jp\",\"661,716\",\"93\"\\n\"352\",\"themeforest.net\",\"530,965\",\"93\"\\n\"353\",\"worldbank.org\",\"285,432\",\"93\"\\n\"354\",\"books.google.com\",\"438,115\",\"93\"\\n\"355\",\"sendspace.com\",\"154,224\",\"93\"\\n\"356\",\"imageshack.com\",\"449,594\",\"93\"\\n\"357\",\"metro.co.uk\",\"272,098\",\"93\"\\n\"358\",\"goodreads.com\",\"907,343\",\"93\"\\n\"359\",\"xing.com\",\"483,651\",\"93\"\\n\"360\",\"prezi.com\",\"331,419\",\"93\"\\n\"361\",\"nbcnews.com\",\"694,296\",\"93\"\\n\"362\",\"springer.com\",\"500,924\",\"93\"\\n\"363\",\"ipv4.google.com\",\"339,248\",\"93\"\\n\"364\",\"cambridge.org\",\"345,953\",\"93\"\\n\"365\",\"news.com.au\",\"315,707\",\"93\"\\n\"366\",\"ea.com\",\"206,853\",\"93\"\\n\"367\",\"ikea.com\",\"365,303\",\"93\"\\n\"368\",\"disqus.com\",\"937,425\",\"93\"\\n\"369\",\"qq.com\",\"4,167,884\",\"93\"\\n\"370\",\"netflix.com\",\"362,327\",\"93\"\\n\"371\",\"bloglovin.com\",\"529,063\",\"93\"\\n\"372\",\"www.livejournal.com\",\"3,007,278\",\"93\"\\n\"373\",\"urbandictionary.com\",\"260,544\",\"93\"\\n\"374\",\"googleblog.com\",\"267,052\",\"93\"\\n\"375\",\"rakuten.co.jp\",\"638,446\",\"93\"\\n\"376\",\"xinhuanet.com\",\"597,214\",\"93\"\\n\"377\",\"thetimes.co.uk\",\"415,381\",\"93\"\\n\"378\",\"rapidshare.com\",\"290,496\",\"93\"\\n\"379\",\"photobucket.com\",\"1,750,964\",\"93\"\\n\"380\",\"plos.org\",\"302,489\",\"93\"\\n\"381\",\"google.nl\",\"250,607\",\"93\"\\n\"382\",\"as.com\",\"156,805\",\"93\"\\n\"383\",\"theverge.com\",\"406,419\",\"93\"\\n\"384\",\"about.com\",\"753,090\",\"93\"\\n\"385\",\"gmail.com\",\"214,293\",\"93\"\\n\"386\",\"npr.org\",\"849,795\",\"93\"\\n\"387\",\"vox.com\",\"463,283\",\"93\"\\n\"388\",\"php.net\",\"662,330\",\"93\"\\n\"389\",\"kickstarter.com\",\"485,327\",\"93\"\\n\"390\",\"uber.com\",\"147,837\",\"92\"\\n\"391\",\"foursquare.com\",\"284,124\",\"92\"\\n\"392\",\"scientificamerican.com\",\"333,642\",\"92\"\\n\"393\",\"dot.tk\",\"10,867,770\",\"92\"\\n\"394\",\"rfi.fr\",\"133,938\",\"92\"\\n\"395\",\"mixcloud.com\",\"230,685\",\"92\"\\n\"396\",\"xda-developers.com\",\"156,112\",\"92\"\\n\"397\",\"scholastic.com\",\"197,488\",\"92\"\\n\"398\",\"megaupload.com\",\"257,805\",\"92\"\\n\"399\",\"iubenda.com\",\"237,828\",\"92\"\\n\"400\",\"ox.ac.uk\",\"278,761\",\"92\"\\n\"401\",\"rbc.ru\",\"130,754\",\"92\"\\n\"402\",\"wn.com\",\"217,211\",\"92\"\\n\"403\",\"trustpilot.com\",\"437,931\",\"92\"\\n\"404\",\"imgur.com\",\"1,435,211\",\"92\"\\n\"405\",\"euronews.com\",\"192,198\",\"92\"\\n\"406\",\"google.com.au\",\"222,773\",\"92\"\\n\"407\",\"columbia.edu\",\"341,169\",\"92\"\\n\"408\",\"greenpeace.org\",\"189,799\",\"92\"\\n\"409\",\"lg.com\",\"143,010\",\"92\"\\n\"410\",\"ameblo.jp\",\"736,211\",\"92\"\\n\"411\",\"ed.gov\",\"294,393\",\"92\"\\n\"412\",\"loc.gov\",\"471,770\",\"92\"\\n\"413\",\"variety.com\",\"303,255\",\"92\"\\n\"414\",\"ebay.co.uk\",\"226,654\",\"92\"\\n\"415\",\"trello.com\",\"287,681\",\"92\"\\n\"416\",\"wisc.edu\",\"312,649\",\"92\"\\n\"417\",\"geocities.com\",\"557,962\",\"92\"\\n\"418\",\"focus.de\",\"158,192\",\"92\"\\n\"419\",\"si.edu\",\"295,419\",\"92\"\\n\"420\",\"digitaltrends.com\",\"242,431\",\"92\"\\n\"421\",\"last.fm\",\"440,181\",\"92\"\\n\"422\",\"udemy.com\",\"197,513\",\"92\"\\n\"423\",\"frontiersin.org\",\"217,132\",\"92\"\\n\"424\",\"fbsbx.com\",\"506,554\",\"92\"\\n\"425\",\"adweek.com\",\"205,966\",\"92\"\\n\"426\",\"faz.net\",\"191,097\",\"92\"\\n\"427\",\"hm.com\",\"192,279\",\"92\"\\n\"428\",\"steamcommunity.com\",\"206,028\",\"92\"\\n\"429\",\"zdnet.com\",\"308,824\",\"92\"\\n\"430\",\"about.me\",\"361,892\",\"92\"\\n\"431\",\"ndtv.com\",\"217,804\",\"92\"\\n\"432\",\"usgs.gov\",\"241,323\",\"92\"\\n\"433\",\"my.yahoo.com\",\"1,192,846\",\"92\"\\n\"434\",\"state.gov\",\"338,011\",\"92\"\\n\"435\",\"pinterest.co.uk\",\"231,482\",\"92\"\\n\"436\",\"yumpu.com\",\"299,607\",\"92\"\\n\"437\",\"scoop.it\",\"365,302\",\"92\"\\n\"438\",\"hindustantimes.com\",\"234,126\",\"92\"\\n\"439\",\"amazon.ca\",\"237,302\",\"92\"\\n\"440\",\"lifehacker.com\",\"238,058\",\"92\"\\n\"441\",\"www.canalblog.com\",\"406,883\",\"92\"\\n\"442\",\"corriere.it\",\"181,057\",\"92\"\\n\"443\",\"ibb.co\",\"157,365\",\"92\"\\n\"444\",\"asahi.com\",\"198,317\",\"92\"\\n\"445\",\"discogs.com\",\"152,162\",\"92\"\\n\"446\",\"apnews.com\",\"289,102\",\"92\"\\n\"447\",\"lycos.com\",\"683,063\",\"92\"\\n\"448\",\"fifa.com\",\"179,875\",\"92\"\\n\"449\",\"businesswire.com\",\"334,955\",\"92\"\\n\"450\",\"calameo.com\",\"176,506\",\"92\"\\n\"451\",\"coursera.org\",\"189,917\",\"92\"\\n\"452\",\"example.com\",\"276,875\",\"92\"\\n\"453\",\"epa.gov\",\"362,740\",\"92\"\\n\"454\",\"itmedia.co.jp\",\"121,575\",\"92\"\\n\"455\",\"evernote.com\",\"328,462\",\"92\"\\n\"456\",\"nicovideo.jp\",\"163,229\",\"92\"\\n\"457\",\"bild.de\",\"191,894\",\"92\"\\n\"458\",\"ap.org\",\"196,052\",\"92\"\\n\"459\",\"allaboutcookies.org\",\"404,879\",\"92\"\\n\"460\",\"dribbble.com\",\"628,067\",\"92\"\\n\"461\",\"thefreedictionary.com\",\"262,092\",\"92\"\\n\"462\",\"dynadot.com\",\"796,368\",\"92\"\\n\"463\",\"google.co.id\",\"189,896\",\"92\"\\n\"464\",\"umich.edu\",\"354,729\",\"92\"\\n\"465\",\"lenta.ru\",\"127,844\",\"92\"\\n\"466\",\"airbnb.com\",\"221,558\",\"92\"\\n\"467\",\"upenn.edu\",\"322,838\",\"92\"\\n\"468\",\"nikkei.com\",\"248,393\",\"92\"\\n\"469\",\"elsevier.com\",\"305,392\",\"92\"\\n\"470\",\"fda.gov\",\"376,949\",\"92\"\\n\"471\",\"khanacademy.org\",\"200,100\",\"92\"\\n\"472\",\"behance.net\",\"892,476\",\"92\"\\n\"473\",\"nsw.gov.au\",\"222,201\",\"92\"\\n\"474\",\"kompas.com\",\"287,172\",\"92\"\\n\"475\",\"intuit.com\",\"286,849\",\"92\"\\n\"476\",\"chicagotribune.com\",\"379,775\",\"92\"\\n\"477\",\"sagepub.com\",\"347,359\",\"92\"\\n\"478\",\"uefa.com\",\"157,889\",\"92\"\\n\"479\",\"viglink.com\",\"395,529\",\"92\"\\n\"480\",\"sakura.ne.jp\",\"394,173\",\"92\"\\n\"481\",\"wiktionary.org\",\"315,073\",\"92\"\\n\"482\",\"ovhcloud.com\",\"507,233\",\"92\"\\n\"483\",\"sports.yahoo.com\",\"225,526\",\"92\"\\n\"484\",\"storage.canalblog.com\",\"312,336\",\"92\"\\n\"485\",\"usda.gov\",\"410,192\",\"92\"\\n\"486\",\"eonline.com\",\"268,993\",\"92\"\\n\"487\",\"bbci.co.uk\",\"227,321\",\"92\"\\n\"488\",\"leparisien.fr\",\"143,266\",\"92\"\\n\"489\",\"oecd.org\",\"210,533\",\"92\"\\n\"490\",\"yale.edu\",\"336,935\",\"92\"\\n\"491\",\"liberation.fr\",\"127,718\",\"92\"\\n\"492\",\"eventbrite.co.uk\",\"164,530\",\"92\"\\n\"493\",\"statista.com\",\"341,708\",\"92\"\\n\"494\",\"utexas.edu\",\"280,096\",\"92\"\\n\"495\",\"theglobeandmail.com\",\"267,731\",\"92\"\\n\"496\",\"pewresearch.org\",\"309,044\",\"92\"\\n\"497\",\"bp3.blogger.com\",\"555,463\",\"92\"\\n\"498\",\"blackberry.com\",\"147,123\",\"92\"\\n\"499\",\"redhat.com\",\"235,399\",\"92\"\\n\"500\",\"unicef.org\",\"197,735\",\"92\"\\n'"
            ],
            "application/vnd.google.colaboratory.intrinsic+json": {
              "type": "string"
            }
          },
          "metadata": {},
          "execution_count": 2
        }
      ]
    },
    {
      "cell_type": "code",
      "source": [
        "from io import StringIO\n",
        "import pandas as pd\n",
        "\n",
        "df = pd.read_csv(StringIO(internet))"
      ],
      "metadata": {
        "id": "b78e-rYX8GG7"
      },
      "execution_count": 3,
      "outputs": []
    },
    {
      "cell_type": "code",
      "source": [
        "df"
      ],
      "metadata": {
        "colab": {
          "base_uri": "https://localhost:8080/",
          "height": 424
        },
        "id": "T1K4stsH8LMv",
        "outputId": "225763cf-fa2f-40dd-d371-eb61cd63ff37"
      },
      "execution_count": 4,
      "outputs": [
        {
          "output_type": "execute_result",
          "data": {
            "text/plain": [
              "     Rank      Root Domain Linking Root Domains  Domain Authority\n",
              "0       1      youtube.com           22,224,825               100\n",
              "1       2   www.google.com           14,111,479               100\n",
              "2       3        apple.com            6,384,326               100\n",
              "3       4    microsoft.com            5,119,715                99\n",
              "4       5  www.blogger.com           29,474,909                99\n",
              "..    ...              ...                  ...               ...\n",
              "495   496  pewresearch.org              309,044                92\n",
              "496   497  bp3.blogger.com              555,463                92\n",
              "497   498   blackberry.com              147,123                92\n",
              "498   499       redhat.com              235,399                92\n",
              "499   500       unicef.org              197,735                92\n",
              "\n",
              "[500 rows x 4 columns]"
            ],
            "text/html": [
              "\n",
              "  <div id=\"df-a3d5b96c-1b18-4a23-a660-443b4dbdc204\">\n",
              "    <div class=\"colab-df-container\">\n",
              "      <div>\n",
              "<style scoped>\n",
              "    .dataframe tbody tr th:only-of-type {\n",
              "        vertical-align: middle;\n",
              "    }\n",
              "\n",
              "    .dataframe tbody tr th {\n",
              "        vertical-align: top;\n",
              "    }\n",
              "\n",
              "    .dataframe thead th {\n",
              "        text-align: right;\n",
              "    }\n",
              "</style>\n",
              "<table border=\"1\" class=\"dataframe\">\n",
              "  <thead>\n",
              "    <tr style=\"text-align: right;\">\n",
              "      <th></th>\n",
              "      <th>Rank</th>\n",
              "      <th>Root Domain</th>\n",
              "      <th>Linking Root Domains</th>\n",
              "      <th>Domain Authority</th>\n",
              "    </tr>\n",
              "  </thead>\n",
              "  <tbody>\n",
              "    <tr>\n",
              "      <th>0</th>\n",
              "      <td>1</td>\n",
              "      <td>youtube.com</td>\n",
              "      <td>22,224,825</td>\n",
              "      <td>100</td>\n",
              "    </tr>\n",
              "    <tr>\n",
              "      <th>1</th>\n",
              "      <td>2</td>\n",
              "      <td>www.google.com</td>\n",
              "      <td>14,111,479</td>\n",
              "      <td>100</td>\n",
              "    </tr>\n",
              "    <tr>\n",
              "      <th>2</th>\n",
              "      <td>3</td>\n",
              "      <td>apple.com</td>\n",
              "      <td>6,384,326</td>\n",
              "      <td>100</td>\n",
              "    </tr>\n",
              "    <tr>\n",
              "      <th>3</th>\n",
              "      <td>4</td>\n",
              "      <td>microsoft.com</td>\n",
              "      <td>5,119,715</td>\n",
              "      <td>99</td>\n",
              "    </tr>\n",
              "    <tr>\n",
              "      <th>4</th>\n",
              "      <td>5</td>\n",
              "      <td>www.blogger.com</td>\n",
              "      <td>29,474,909</td>\n",
              "      <td>99</td>\n",
              "    </tr>\n",
              "    <tr>\n",
              "      <th>...</th>\n",
              "      <td>...</td>\n",
              "      <td>...</td>\n",
              "      <td>...</td>\n",
              "      <td>...</td>\n",
              "    </tr>\n",
              "    <tr>\n",
              "      <th>495</th>\n",
              "      <td>496</td>\n",
              "      <td>pewresearch.org</td>\n",
              "      <td>309,044</td>\n",
              "      <td>92</td>\n",
              "    </tr>\n",
              "    <tr>\n",
              "      <th>496</th>\n",
              "      <td>497</td>\n",
              "      <td>bp3.blogger.com</td>\n",
              "      <td>555,463</td>\n",
              "      <td>92</td>\n",
              "    </tr>\n",
              "    <tr>\n",
              "      <th>497</th>\n",
              "      <td>498</td>\n",
              "      <td>blackberry.com</td>\n",
              "      <td>147,123</td>\n",
              "      <td>92</td>\n",
              "    </tr>\n",
              "    <tr>\n",
              "      <th>498</th>\n",
              "      <td>499</td>\n",
              "      <td>redhat.com</td>\n",
              "      <td>235,399</td>\n",
              "      <td>92</td>\n",
              "    </tr>\n",
              "    <tr>\n",
              "      <th>499</th>\n",
              "      <td>500</td>\n",
              "      <td>unicef.org</td>\n",
              "      <td>197,735</td>\n",
              "      <td>92</td>\n",
              "    </tr>\n",
              "  </tbody>\n",
              "</table>\n",
              "<p>500 rows × 4 columns</p>\n",
              "</div>\n",
              "      <button class=\"colab-df-convert\" onclick=\"convertToInteractive('df-a3d5b96c-1b18-4a23-a660-443b4dbdc204')\"\n",
              "              title=\"Convert this dataframe to an interactive table.\"\n",
              "              style=\"display:none;\">\n",
              "        \n",
              "  <svg xmlns=\"http://www.w3.org/2000/svg\" height=\"24px\"viewBox=\"0 0 24 24\"\n",
              "       width=\"24px\">\n",
              "    <path d=\"M0 0h24v24H0V0z\" fill=\"none\"/>\n",
              "    <path d=\"M18.56 5.44l.94 2.06.94-2.06 2.06-.94-2.06-.94-.94-2.06-.94 2.06-2.06.94zm-11 1L8.5 8.5l.94-2.06 2.06-.94-2.06-.94L8.5 2.5l-.94 2.06-2.06.94zm10 10l.94 2.06.94-2.06 2.06-.94-2.06-.94-.94-2.06-.94 2.06-2.06.94z\"/><path d=\"M17.41 7.96l-1.37-1.37c-.4-.4-.92-.59-1.43-.59-.52 0-1.04.2-1.43.59L10.3 9.45l-7.72 7.72c-.78.78-.78 2.05 0 2.83L4 21.41c.39.39.9.59 1.41.59.51 0 1.02-.2 1.41-.59l7.78-7.78 2.81-2.81c.8-.78.8-2.07 0-2.86zM5.41 20L4 18.59l7.72-7.72 1.47 1.35L5.41 20z\"/>\n",
              "  </svg>\n",
              "      </button>\n",
              "      \n",
              "  <style>\n",
              "    .colab-df-container {\n",
              "      display:flex;\n",
              "      flex-wrap:wrap;\n",
              "      gap: 12px;\n",
              "    }\n",
              "\n",
              "    .colab-df-convert {\n",
              "      background-color: #E8F0FE;\n",
              "      border: none;\n",
              "      border-radius: 50%;\n",
              "      cursor: pointer;\n",
              "      display: none;\n",
              "      fill: #1967D2;\n",
              "      height: 32px;\n",
              "      padding: 0 0 0 0;\n",
              "      width: 32px;\n",
              "    }\n",
              "\n",
              "    .colab-df-convert:hover {\n",
              "      background-color: #E2EBFA;\n",
              "      box-shadow: 0px 1px 2px rgba(60, 64, 67, 0.3), 0px 1px 3px 1px rgba(60, 64, 67, 0.15);\n",
              "      fill: #174EA6;\n",
              "    }\n",
              "\n",
              "    [theme=dark] .colab-df-convert {\n",
              "      background-color: #3B4455;\n",
              "      fill: #D2E3FC;\n",
              "    }\n",
              "\n",
              "    [theme=dark] .colab-df-convert:hover {\n",
              "      background-color: #434B5C;\n",
              "      box-shadow: 0px 1px 3px 1px rgba(0, 0, 0, 0.15);\n",
              "      filter: drop-shadow(0px 1px 2px rgba(0, 0, 0, 0.3));\n",
              "      fill: #FFFFFF;\n",
              "    }\n",
              "  </style>\n",
              "\n",
              "      <script>\n",
              "        const buttonEl =\n",
              "          document.querySelector('#df-a3d5b96c-1b18-4a23-a660-443b4dbdc204 button.colab-df-convert');\n",
              "        buttonEl.style.display =\n",
              "          google.colab.kernel.accessAllowed ? 'block' : 'none';\n",
              "\n",
              "        async function convertToInteractive(key) {\n",
              "          const element = document.querySelector('#df-a3d5b96c-1b18-4a23-a660-443b4dbdc204');\n",
              "          const dataTable =\n",
              "            await google.colab.kernel.invokeFunction('convertToInteractive',\n",
              "                                                     [key], {});\n",
              "          if (!dataTable) return;\n",
              "\n",
              "          const docLinkHtml = 'Like what you see? Visit the ' +\n",
              "            '<a target=\"_blank\" href=https://colab.research.google.com/notebooks/data_table.ipynb>data table notebook</a>'\n",
              "            + ' to learn more about interactive tables.';\n",
              "          element.innerHTML = '';\n",
              "          dataTable['output_type'] = 'display_data';\n",
              "          await google.colab.output.renderOutput(dataTable, element);\n",
              "          const docLink = document.createElement('div');\n",
              "          docLink.innerHTML = docLinkHtml;\n",
              "          element.appendChild(docLink);\n",
              "        }\n",
              "      </script>\n",
              "    </div>\n",
              "  </div>\n",
              "  "
            ]
          },
          "metadata": {},
          "execution_count": 4
        }
      ]
    },
    {
      "cell_type": "code",
      "source": [
        "import ray, logging\n",
        "\n",
        "ray.init()"
      ],
      "metadata": {
        "colab": {
          "base_uri": "https://localhost:8080/"
        },
        "id": "9nedLFG28hBO",
        "outputId": "6327be0e-145d-4e82-c2ea-68221e1fe1f8"
      },
      "execution_count": 2,
      "outputs": [
        {
          "output_type": "stream",
          "name": "stderr",
          "text": [
            "2022-07-01 05:33:49,126\tINFO services.py:1476 -- View the Ray dashboard at \u001b[1m\u001b[32mhttp://127.0.0.1:8265\u001b[39m\u001b[22m\n"
          ]
        },
        {
          "output_type": "execute_result",
          "data": {
            "text/plain": [
              "RayContext(dashboard_url='127.0.0.1:8265', python_version='3.7.13', ray_version='1.13.0', ray_commit='e4ce38d001dbbe09cd21c497fedd03d692b2be3e', address_info={'node_ip_address': '172.28.0.2', 'raylet_ip_address': '172.28.0.2', 'redis_address': None, 'object_store_address': '/tmp/ray/session_2022-07-01_05-33-44_292474_60/sockets/plasma_store', 'raylet_socket_name': '/tmp/ray/session_2022-07-01_05-33-44_292474_60/sockets/raylet', 'webui_url': '127.0.0.1:8265', 'session_dir': '/tmp/ray/session_2022-07-01_05-33-44_292474_60', 'metrics_export_port': 58502, 'gcs_address': '172.28.0.2:56753', 'address': '172.28.0.2:56753', 'node_id': '43a2d5ae441bc1af39427f3ac163f0299f1ff24db01442df95aadb11'})"
            ]
          },
          "metadata": {},
          "execution_count": 2
        }
      ]
    },
    {
      "cell_type": "code",
      "source": [
        "import os\n",
        "\n",
        "os.cpu_count()"
      ],
      "metadata": {
        "colab": {
          "base_uri": "https://localhost:8080/"
        },
        "id": "vp9goU_eQDo5",
        "outputId": "c01d16ad-e3d8-4af8-fc1f-3906dc4be11b"
      },
      "execution_count": 3,
      "outputs": [
        {
          "output_type": "execute_result",
          "data": {
            "text/plain": [
              "2"
            ]
          },
          "metadata": {},
          "execution_count": 3
        }
      ]
    },
    {
      "cell_type": "code",
      "source": [
        "@ray.remote\n",
        "def f(x):\n",
        "    return x * x"
      ],
      "metadata": {
        "id": "6YKUcXZ_8rNY"
      },
      "execution_count": 6,
      "outputs": []
    },
    {
      "cell_type": "code",
      "source": [
        "ray.get(f.remote(10))"
      ],
      "metadata": {
        "colab": {
          "base_uri": "https://localhost:8080/"
        },
        "id": "6b-2heqh8-Hv",
        "outputId": "d5de2c87-31cd-44e6-9952-40d79a4fcc9f"
      },
      "execution_count": 7,
      "outputs": [
        {
          "output_type": "execute_result",
          "data": {
            "text/plain": [
              "100"
            ]
          },
          "metadata": {},
          "execution_count": 7
        }
      ]
    },
    {
      "cell_type": "code",
      "source": [
        "futures = [f.remote(i) for i in range(4)]\n",
        "print(ray.get(futures))"
      ],
      "metadata": {
        "colab": {
          "base_uri": "https://localhost:8080/"
        },
        "id": "r9GdKgbU9ANj",
        "outputId": "787773cc-67a5-4104-c1c8-6c0c99bb6273"
      },
      "execution_count": 8,
      "outputs": [
        {
          "output_type": "stream",
          "name": "stdout",
          "text": [
            "[0, 1, 4, 9]\n"
          ]
        }
      ]
    },
    {
      "cell_type": "code",
      "source": [
        "ref = ray.put(\"Jonathan\")\n",
        "ref"
      ],
      "metadata": {
        "colab": {
          "base_uri": "https://localhost:8080/"
        },
        "id": "n9oLghZW9EFz",
        "outputId": "07525f08-6569-407f-d49e-93c10af687b6"
      },
      "execution_count": 9,
      "outputs": [
        {
          "output_type": "execute_result",
          "data": {
            "text/plain": [
              "ObjectRef(00ffffffffffffffffffffffffffffffffffffff0100000001000000)"
            ]
          },
          "metadata": {},
          "execution_count": 9
        }
      ]
    },
    {
      "cell_type": "code",
      "source": [
        "import time\n",
        "\n",
        "@ray.remote\n",
        "def index(url):\n",
        "    time.sleep(2)\n",
        "    return url.split('.')[-1]\n",
        "\n",
        "futures = [index.remote(site) for site in df['Root Domain'].to_list()[:10]]"
      ],
      "metadata": {
        "id": "C2yPEsBK9H_o"
      },
      "execution_count": 19,
      "outputs": []
    },
    {
      "cell_type": "code",
      "source": [
        "futures[:5]"
      ],
      "metadata": {
        "colab": {
          "base_uri": "https://localhost:8080/"
        },
        "id": "2-airR439axe",
        "outputId": "77a1b466-75f4-4048-83c1-4a4e17a3112c"
      },
      "execution_count": 20,
      "outputs": [
        {
          "output_type": "execute_result",
          "data": {
            "text/plain": [
              "[ObjectRef(cae5e964086715a4ffffffffffffffffffffffff0100000001000000),\n",
              " ObjectRef(bcb4fef46b376cafffffffffffffffffffffffff0100000001000000),\n",
              " ObjectRef(88543757a8df6d2fffffffffffffffffffffffff0100000001000000),\n",
              " ObjectRef(347cc60e0bb3da74ffffffffffffffffffffffff0100000001000000),\n",
              " ObjectRef(a02c24b8b7fc0a31ffffffffffffffffffffffff0100000001000000)]"
            ]
          },
          "metadata": {},
          "execution_count": 20
        }
      ]
    },
    {
      "cell_type": "code",
      "source": [
        "from collections import Counter"
      ],
      "metadata": {
        "id": "Fp6euHCa93PH"
      },
      "execution_count": 21,
      "outputs": []
    },
    {
      "cell_type": "code",
      "source": [
        "%%time\n",
        "\n",
        "Counter(ray.get(futures))"
      ],
      "metadata": {
        "colab": {
          "base_uri": "https://localhost:8080/"
        },
        "id": "DmTR5OJn9e5K",
        "outputId": "79c69e34-7955-4dc7-e00d-1a687c063c64"
      },
      "execution_count": 22,
      "outputs": [
        {
          "output_type": "stream",
          "name": "stdout",
          "text": [
            "CPU times: user 72.1 ms, sys: 7.99 ms, total: 80.1 ms\n",
            "Wall time: 5.3 s\n"
          ]
        },
        {
          "output_type": "execute_result",
          "data": {
            "text/plain": [
              "Counter({'be': 1, 'com': 9})"
            ]
          },
          "metadata": {},
          "execution_count": 22
        }
      ]
    },
    {
      "cell_type": "code",
      "source": [
        "ray.available_resources()"
      ],
      "metadata": {
        "colab": {
          "base_uri": "https://localhost:8080/"
        },
        "id": "n3H2WT5R9juU",
        "outputId": "8deb8285-339f-4517-c7b2-e958ccbdcd8b"
      },
      "execution_count": 4,
      "outputs": [
        {
          "output_type": "execute_result",
          "data": {
            "text/plain": [
              "{'CPU': 2.0,\n",
              " 'memory': 7877495195.0,\n",
              " 'node:172.28.0.2': 1.0,\n",
              " 'object_store_memory': 3938747596.0}"
            ]
          },
          "metadata": {},
          "execution_count": 4
        }
      ]
    },
    {
      "cell_type": "markdown",
      "source": [
        "## Ray Actors"
      ],
      "metadata": {
        "id": "6j1_1M0jCe0_"
      }
    },
    {
      "cell_type": "code",
      "source": [
        "import random\n",
        "from faker import Faker\n",
        "\n",
        "@ray.remote\n",
        "class Child(object):\n",
        "    def __init__(self):\n",
        "        self.name = Faker().name()\n",
        "        self.age = 1\n",
        "\n",
        "    def grow(self):\n",
        "        self.age += 1\n",
        "        return self.age\n",
        "\n",
        "    def greet(self):\n",
        "        return (\n",
        "            f'My name is {self.name} '\n",
        "            f'and I am {self.age} years old'\n",
        "        )"
      ],
      "metadata": {
        "id": "4X81DXx5BqB4"
      },
      "execution_count": 34,
      "outputs": []
    },
    {
      "cell_type": "code",
      "source": [
        "children = [Child.remote() for i in range(10)]"
      ],
      "metadata": {
        "id": "BEzrOPTlBvkd"
      },
      "execution_count": 35,
      "outputs": []
    },
    {
      "cell_type": "code",
      "source": [
        "for c in children:\n",
        "    for _ in range(random.randint(1, 10)):\n",
        "        c.grow.remote()"
      ],
      "metadata": {
        "id": "LP9gXudpBydE"
      },
      "execution_count": 36,
      "outputs": []
    },
    {
      "cell_type": "code",
      "source": [
        "futures = [c.greet.remote() for c in children]\n",
        "\n",
        "for future in ray.get(futures):\n",
        "    print(future)"
      ],
      "metadata": {
        "colab": {
          "base_uri": "https://localhost:8080/"
        },
        "id": "D29y1Mh6B2Oo",
        "outputId": "f0ccb35e-6c89-47e0-b0cb-fdd04cd021c3"
      },
      "execution_count": 37,
      "outputs": [
        {
          "output_type": "stream",
          "name": "stdout",
          "text": [
            "My name is Hannah Hull and I am 4 years old\n",
            "My name is Natalie Reed and I am 7 years old\n",
            "My name is Amanda Shaffer and I am 6 years old\n",
            "My name is Travis Johnson and I am 9 years old\n",
            "My name is Loretta Hanson and I am 11 years old\n",
            "My name is Jody Harrison and I am 5 years old\n",
            "My name is John Dunn and I am 3 years old\n",
            "My name is Max Page and I am 2 years old\n",
            "My name is Jonathan Lopez and I am 7 years old\n",
            "My name is Ricky Kelly and I am 7 years old\n"
          ]
        }
      ]
    },
    {
      "cell_type": "code",
      "source": [
        "c = children[0]"
      ],
      "metadata": {
        "id": "Gw3Ddd9VCKGG"
      },
      "execution_count": 39,
      "outputs": []
    },
    {
      "cell_type": "code",
      "source": [
        "ray.get(c.greet.remote())"
      ],
      "metadata": {
        "colab": {
          "base_uri": "https://localhost:8080/",
          "height": 35
        },
        "id": "7emo_4CKCMpX",
        "outputId": "e6647fe6-1e98-4b84-a3a5-960f40580c9c"
      },
      "execution_count": 41,
      "outputs": [
        {
          "output_type": "execute_result",
          "data": {
            "text/plain": [
              "'My name is Hannah Hull and I am 4 years old'"
            ],
            "application/vnd.google.colaboratory.intrinsic+json": {
              "type": "string"
            }
          },
          "metadata": {},
          "execution_count": 41
        }
      ]
    },
    {
      "cell_type": "code",
      "source": [
        "print(ray.get([c.grow.remote() for _ in range(5)]))"
      ],
      "metadata": {
        "colab": {
          "base_uri": "https://localhost:8080/"
        },
        "id": "nzl3Gh5MCPYv",
        "outputId": "eab332ed-97d4-4e83-de3f-4983b55ac44b"
      },
      "execution_count": 42,
      "outputs": [
        {
          "output_type": "stream",
          "name": "stdout",
          "text": [
            "[5, 6, 7, 8, 9]\n"
          ]
        }
      ]
    },
    {
      "cell_type": "code",
      "source": [
        "# actors stay around as long as they are in scope\n",
        "# since nothing really goes out of scope in a notebook\n",
        "# we have to manually terminate them\n",
        "[ ray.kill(person) for person in children ]"
      ],
      "metadata": {
        "colab": {
          "base_uri": "https://localhost:8080/"
        },
        "id": "GsQrjAMBCTYX",
        "outputId": "9dce573c-290f-480f-9ca6-206fa65a2be0"
      },
      "execution_count": 43,
      "outputs": [
        {
          "output_type": "execute_result",
          "data": {
            "text/plain": [
              "[None, None, None, None, None, None, None, None, None, None]"
            ]
          },
          "metadata": {},
          "execution_count": 43
        }
      ]
    },
    {
      "cell_type": "code",
      "source": [
        "# or just shutdown ray\n",
        "ray.shutdown()"
      ],
      "metadata": {
        "id": "hOuno2j8CWE6"
      },
      "execution_count": 44,
      "outputs": []
    }
  ]
}