{
  "nbformat": 4,
  "nbformat_minor": 0,
  "metadata": {
    "colab": {
      "name": "introduction-to-ray.ipynb",
      "provenance": [],
      "collapsed_sections": [],
      "authorship_tag": "ABX9TyMXaMYgm0qCwojo3KYFOl1x",
      "include_colab_link": true
    },
    "kernelspec": {
      "name": "python3",
      "display_name": "Python 3"
    },
    "language_info": {
      "name": "python"
    }
  },
  "cells": [
    {
      "cell_type": "markdown",
      "metadata": {
        "id": "view-in-github",
        "colab_type": "text"
      },
      "source": [
        "<a href=\"https://colab.research.google.com/github/clearspandex/distributed-ml-ray/blob/main/notebooks/introduction_to_ray.ipynb\" target=\"_parent\"><img src=\"https://colab.research.google.com/assets/colab-badge.svg\" alt=\"Open In Colab\"/></a>"
      ]
    },
    {
      "cell_type": "code",
      "execution_count": null,
      "metadata": {
        "id": "3SP8fcPUvSpb"
      },
      "outputs": [],
      "source": [
        "!pip install ray requests faker"
      ]
    },
    {
      "cell_type": "markdown",
      "source": [
        "## Introduction to Ray Core"
      ],
      "metadata": {
        "id": "-T3DqeRwaYF6"
      }
    },
    {
      "cell_type": "markdown",
      "source": [
        "### Ray Tasks"
      ],
      "metadata": {
        "id": "TuIT4xUTagIV"
      }
    },
    {
      "cell_type": "code",
      "source": [
        "import requests\n",
        "\n",
        "internet = requests.get('https://moz.com/top-500/download?table=top500Domains').text"
      ],
      "metadata": {
        "id": "XCOMS4NtaZY9"
      },
      "execution_count": 2,
      "outputs": []
    },
    {
      "cell_type": "code",
      "source": [
        "from io import StringIO\n",
        "import pandas as pd\n",
        "\n",
        "df = pd.read_csv(StringIO(internet))"
      ],
      "metadata": {
        "id": "b78e-rYX8GG7"
      },
      "execution_count": 3,
      "outputs": []
    },
    {
      "cell_type": "code",
      "source": [
        "df"
      ],
      "metadata": {
        "colab": {
          "base_uri": "https://localhost:8080/",
          "height": 424
        },
        "id": "T1K4stsH8LMv",
        "outputId": "225763cf-fa2f-40dd-d371-eb61cd63ff37"
      },
      "execution_count": 4,
      "outputs": [
        {
          "output_type": "execute_result",
          "data": {
            "text/plain": [
              "     Rank      Root Domain Linking Root Domains  Domain Authority\n",
              "0       1      youtube.com           22,224,825               100\n",
              "1       2   www.google.com           14,111,479               100\n",
              "2       3        apple.com            6,384,326               100\n",
              "3       4    microsoft.com            5,119,715                99\n",
              "4       5  www.blogger.com           29,474,909                99\n",
              "..    ...              ...                  ...               ...\n",
              "495   496  pewresearch.org              309,044                92\n",
              "496   497  bp3.blogger.com              555,463                92\n",
              "497   498   blackberry.com              147,123                92\n",
              "498   499       redhat.com              235,399                92\n",
              "499   500       unicef.org              197,735                92\n",
              "\n",
              "[500 rows x 4 columns]"
            ],
            "text/html": [
              "\n",
              "  <div id=\"df-a3d5b96c-1b18-4a23-a660-443b4dbdc204\">\n",
              "    <div class=\"colab-df-container\">\n",
              "      <div>\n",
              "<style scoped>\n",
              "    .dataframe tbody tr th:only-of-type {\n",
              "        vertical-align: middle;\n",
              "    }\n",
              "\n",
              "    .dataframe tbody tr th {\n",
              "        vertical-align: top;\n",
              "    }\n",
              "\n",
              "    .dataframe thead th {\n",
              "        text-align: right;\n",
              "    }\n",
              "</style>\n",
              "<table border=\"1\" class=\"dataframe\">\n",
              "  <thead>\n",
              "    <tr style=\"text-align: right;\">\n",
              "      <th></th>\n",
              "      <th>Rank</th>\n",
              "      <th>Root Domain</th>\n",
              "      <th>Linking Root Domains</th>\n",
              "      <th>Domain Authority</th>\n",
              "    </tr>\n",
              "  </thead>\n",
              "  <tbody>\n",
              "    <tr>\n",
              "      <th>0</th>\n",
              "      <td>1</td>\n",
              "      <td>youtube.com</td>\n",
              "      <td>22,224,825</td>\n",
              "      <td>100</td>\n",
              "    </tr>\n",
              "    <tr>\n",
              "      <th>1</th>\n",
              "      <td>2</td>\n",
              "      <td>www.google.com</td>\n",
              "      <td>14,111,479</td>\n",
              "      <td>100</td>\n",
              "    </tr>\n",
              "    <tr>\n",
              "      <th>2</th>\n",
              "      <td>3</td>\n",
              "      <td>apple.com</td>\n",
              "      <td>6,384,326</td>\n",
              "      <td>100</td>\n",
              "    </tr>\n",
              "    <tr>\n",
              "      <th>3</th>\n",
              "      <td>4</td>\n",
              "      <td>microsoft.com</td>\n",
              "      <td>5,119,715</td>\n",
              "      <td>99</td>\n",
              "    </tr>\n",
              "    <tr>\n",
              "      <th>4</th>\n",
              "      <td>5</td>\n",
              "      <td>www.blogger.com</td>\n",
              "      <td>29,474,909</td>\n",
              "      <td>99</td>\n",
              "    </tr>\n",
              "    <tr>\n",
              "      <th>...</th>\n",
              "      <td>...</td>\n",
              "      <td>...</td>\n",
              "      <td>...</td>\n",
              "      <td>...</td>\n",
              "    </tr>\n",
              "    <tr>\n",
              "      <th>495</th>\n",
              "      <td>496</td>\n",
              "      <td>pewresearch.org</td>\n",
              "      <td>309,044</td>\n",
              "      <td>92</td>\n",
              "    </tr>\n",
              "    <tr>\n",
              "      <th>496</th>\n",
              "      <td>497</td>\n",
              "      <td>bp3.blogger.com</td>\n",
              "      <td>555,463</td>\n",
              "      <td>92</td>\n",
              "    </tr>\n",
              "    <tr>\n",
              "      <th>497</th>\n",
              "      <td>498</td>\n",
              "      <td>blackberry.com</td>\n",
              "      <td>147,123</td>\n",
              "      <td>92</td>\n",
              "    </tr>\n",
              "    <tr>\n",
              "      <th>498</th>\n",
              "      <td>499</td>\n",
              "      <td>redhat.com</td>\n",
              "      <td>235,399</td>\n",
              "      <td>92</td>\n",
              "    </tr>\n",
              "    <tr>\n",
              "      <th>499</th>\n",
              "      <td>500</td>\n",
              "      <td>unicef.org</td>\n",
              "      <td>197,735</td>\n",
              "      <td>92</td>\n",
              "    </tr>\n",
              "  </tbody>\n",
              "</table>\n",
              "<p>500 rows × 4 columns</p>\n",
              "</div>\n",
              "      <button class=\"colab-df-convert\" onclick=\"convertToInteractive('df-a3d5b96c-1b18-4a23-a660-443b4dbdc204')\"\n",
              "              title=\"Convert this dataframe to an interactive table.\"\n",
              "              style=\"display:none;\">\n",
              "        \n",
              "  <svg xmlns=\"http://www.w3.org/2000/svg\" height=\"24px\"viewBox=\"0 0 24 24\"\n",
              "       width=\"24px\">\n",
              "    <path d=\"M0 0h24v24H0V0z\" fill=\"none\"/>\n",
              "    <path d=\"M18.56 5.44l.94 2.06.94-2.06 2.06-.94-2.06-.94-.94-2.06-.94 2.06-2.06.94zm-11 1L8.5 8.5l.94-2.06 2.06-.94-2.06-.94L8.5 2.5l-.94 2.06-2.06.94zm10 10l.94 2.06.94-2.06 2.06-.94-2.06-.94-.94-2.06-.94 2.06-2.06.94z\"/><path d=\"M17.41 7.96l-1.37-1.37c-.4-.4-.92-.59-1.43-.59-.52 0-1.04.2-1.43.59L10.3 9.45l-7.72 7.72c-.78.78-.78 2.05 0 2.83L4 21.41c.39.39.9.59 1.41.59.51 0 1.02-.2 1.41-.59l7.78-7.78 2.81-2.81c.8-.78.8-2.07 0-2.86zM5.41 20L4 18.59l7.72-7.72 1.47 1.35L5.41 20z\"/>\n",
              "  </svg>\n",
              "      </button>\n",
              "      \n",
              "  <style>\n",
              "    .colab-df-container {\n",
              "      display:flex;\n",
              "      flex-wrap:wrap;\n",
              "      gap: 12px;\n",
              "    }\n",
              "\n",
              "    .colab-df-convert {\n",
              "      background-color: #E8F0FE;\n",
              "      border: none;\n",
              "      border-radius: 50%;\n",
              "      cursor: pointer;\n",
              "      display: none;\n",
              "      fill: #1967D2;\n",
              "      height: 32px;\n",
              "      padding: 0 0 0 0;\n",
              "      width: 32px;\n",
              "    }\n",
              "\n",
              "    .colab-df-convert:hover {\n",
              "      background-color: #E2EBFA;\n",
              "      box-shadow: 0px 1px 2px rgba(60, 64, 67, 0.3), 0px 1px 3px 1px rgba(60, 64, 67, 0.15);\n",
              "      fill: #174EA6;\n",
              "    }\n",
              "\n",
              "    [theme=dark] .colab-df-convert {\n",
              "      background-color: #3B4455;\n",
              "      fill: #D2E3FC;\n",
              "    }\n",
              "\n",
              "    [theme=dark] .colab-df-convert:hover {\n",
              "      background-color: #434B5C;\n",
              "      box-shadow: 0px 1px 3px 1px rgba(0, 0, 0, 0.15);\n",
              "      filter: drop-shadow(0px 1px 2px rgba(0, 0, 0, 0.3));\n",
              "      fill: #FFFFFF;\n",
              "    }\n",
              "  </style>\n",
              "\n",
              "      <script>\n",
              "        const buttonEl =\n",
              "          document.querySelector('#df-a3d5b96c-1b18-4a23-a660-443b4dbdc204 button.colab-df-convert');\n",
              "        buttonEl.style.display =\n",
              "          google.colab.kernel.accessAllowed ? 'block' : 'none';\n",
              "\n",
              "        async function convertToInteractive(key) {\n",
              "          const element = document.querySelector('#df-a3d5b96c-1b18-4a23-a660-443b4dbdc204');\n",
              "          const dataTable =\n",
              "            await google.colab.kernel.invokeFunction('convertToInteractive',\n",
              "                                                     [key], {});\n",
              "          if (!dataTable) return;\n",
              "\n",
              "          const docLinkHtml = 'Like what you see? Visit the ' +\n",
              "            '<a target=\"_blank\" href=https://colab.research.google.com/notebooks/data_table.ipynb>data table notebook</a>'\n",
              "            + ' to learn more about interactive tables.';\n",
              "          element.innerHTML = '';\n",
              "          dataTable['output_type'] = 'display_data';\n",
              "          await google.colab.output.renderOutput(dataTable, element);\n",
              "          const docLink = document.createElement('div');\n",
              "          docLink.innerHTML = docLinkHtml;\n",
              "          element.appendChild(docLink);\n",
              "        }\n",
              "      </script>\n",
              "    </div>\n",
              "  </div>\n",
              "  "
            ]
          },
          "metadata": {},
          "execution_count": 4
        }
      ]
    },
    {
      "cell_type": "code",
      "source": [
        "import ray, logging\n",
        "\n",
        "ray.init()"
      ],
      "metadata": {
        "colab": {
          "base_uri": "https://localhost:8080/"
        },
        "id": "9nedLFG28hBO",
        "outputId": "6327be0e-145d-4e82-c2ea-68221e1fe1f8"
      },
      "execution_count": 2,
      "outputs": [
        {
          "output_type": "stream",
          "name": "stderr",
          "text": [
            "2022-07-01 05:33:49,126\tINFO services.py:1476 -- View the Ray dashboard at \u001b[1m\u001b[32mhttp://127.0.0.1:8265\u001b[39m\u001b[22m\n"
          ]
        },
        {
          "output_type": "execute_result",
          "data": {
            "text/plain": [
              "RayContext(dashboard_url='127.0.0.1:8265', python_version='3.7.13', ray_version='1.13.0', ray_commit='e4ce38d001dbbe09cd21c497fedd03d692b2be3e', address_info={'node_ip_address': '172.28.0.2', 'raylet_ip_address': '172.28.0.2', 'redis_address': None, 'object_store_address': '/tmp/ray/session_2022-07-01_05-33-44_292474_60/sockets/plasma_store', 'raylet_socket_name': '/tmp/ray/session_2022-07-01_05-33-44_292474_60/sockets/raylet', 'webui_url': '127.0.0.1:8265', 'session_dir': '/tmp/ray/session_2022-07-01_05-33-44_292474_60', 'metrics_export_port': 58502, 'gcs_address': '172.28.0.2:56753', 'address': '172.28.0.2:56753', 'node_id': '43a2d5ae441bc1af39427f3ac163f0299f1ff24db01442df95aadb11'})"
            ]
          },
          "metadata": {},
          "execution_count": 2
        }
      ]
    },
    {
      "cell_type": "code",
      "source": [
        "import os\n",
        "\n",
        "os.cpu_count()"
      ],
      "metadata": {
        "colab": {
          "base_uri": "https://localhost:8080/"
        },
        "id": "vp9goU_eQDo5",
        "outputId": "c01d16ad-e3d8-4af8-fc1f-3906dc4be11b"
      },
      "execution_count": 3,
      "outputs": [
        {
          "output_type": "execute_result",
          "data": {
            "text/plain": [
              "2"
            ]
          },
          "metadata": {},
          "execution_count": 3
        }
      ]
    },
    {
      "cell_type": "code",
      "source": [
        "@ray.remote\n",
        "def f(x):\n",
        "    return x * x"
      ],
      "metadata": {
        "id": "6YKUcXZ_8rNY"
      },
      "execution_count": 6,
      "outputs": []
    },
    {
      "cell_type": "code",
      "source": [
        "ray.get(f.remote(10))"
      ],
      "metadata": {
        "colab": {
          "base_uri": "https://localhost:8080/"
        },
        "id": "6b-2heqh8-Hv",
        "outputId": "d5de2c87-31cd-44e6-9952-40d79a4fcc9f"
      },
      "execution_count": 7,
      "outputs": [
        {
          "output_type": "execute_result",
          "data": {
            "text/plain": [
              "100"
            ]
          },
          "metadata": {},
          "execution_count": 7
        }
      ]
    },
    {
      "cell_type": "code",
      "source": [
        "futures = [f.remote(i) for i in range(4)]\n",
        "print(ray.get(futures))"
      ],
      "metadata": {
        "colab": {
          "base_uri": "https://localhost:8080/"
        },
        "id": "r9GdKgbU9ANj",
        "outputId": "787773cc-67a5-4104-c1c8-6c0c99bb6273"
      },
      "execution_count": 8,
      "outputs": [
        {
          "output_type": "stream",
          "name": "stdout",
          "text": [
            "[0, 1, 4, 9]\n"
          ]
        }
      ]
    },
    {
      "cell_type": "code",
      "source": [
        "ref = ray.put(\"Jonathan\")\n",
        "ref"
      ],
      "metadata": {
        "colab": {
          "base_uri": "https://localhost:8080/"
        },
        "id": "n9oLghZW9EFz",
        "outputId": "07525f08-6569-407f-d49e-93c10af687b6"
      },
      "execution_count": 9,
      "outputs": [
        {
          "output_type": "execute_result",
          "data": {
            "text/plain": [
              "ObjectRef(00ffffffffffffffffffffffffffffffffffffff0100000001000000)"
            ]
          },
          "metadata": {},
          "execution_count": 9
        }
      ]
    },
    {
      "cell_type": "code",
      "source": [
        "import time\n",
        "\n",
        "@ray.remote\n",
        "def index(url):\n",
        "    time.sleep(2)\n",
        "    return url.split('.')[-1]\n",
        "\n",
        "futures = [index.remote(site) for site in df['Root Domain'].to_list()[:10]]"
      ],
      "metadata": {
        "id": "C2yPEsBK9H_o"
      },
      "execution_count": 19,
      "outputs": []
    },
    {
      "cell_type": "code",
      "source": [
        "futures[:5]"
      ],
      "metadata": {
        "colab": {
          "base_uri": "https://localhost:8080/"
        },
        "id": "2-airR439axe",
        "outputId": "77a1b466-75f4-4048-83c1-4a4e17a3112c"
      },
      "execution_count": 20,
      "outputs": [
        {
          "output_type": "execute_result",
          "data": {
            "text/plain": [
              "[ObjectRef(cae5e964086715a4ffffffffffffffffffffffff0100000001000000),\n",
              " ObjectRef(bcb4fef46b376cafffffffffffffffffffffffff0100000001000000),\n",
              " ObjectRef(88543757a8df6d2fffffffffffffffffffffffff0100000001000000),\n",
              " ObjectRef(347cc60e0bb3da74ffffffffffffffffffffffff0100000001000000),\n",
              " ObjectRef(a02c24b8b7fc0a31ffffffffffffffffffffffff0100000001000000)]"
            ]
          },
          "metadata": {},
          "execution_count": 20
        }
      ]
    },
    {
      "cell_type": "code",
      "source": [
        "from collections import Counter"
      ],
      "metadata": {
        "id": "Fp6euHCa93PH"
      },
      "execution_count": 21,
      "outputs": []
    },
    {
      "cell_type": "code",
      "source": [
        "%%time\n",
        "\n",
        "Counter(ray.get(futures))"
      ],
      "metadata": {
        "colab": {
          "base_uri": "https://localhost:8080/"
        },
        "id": "DmTR5OJn9e5K",
        "outputId": "79c69e34-7955-4dc7-e00d-1a687c063c64"
      },
      "execution_count": 22,
      "outputs": [
        {
          "output_type": "stream",
          "name": "stdout",
          "text": [
            "CPU times: user 72.1 ms, sys: 7.99 ms, total: 80.1 ms\n",
            "Wall time: 5.3 s\n"
          ]
        },
        {
          "output_type": "execute_result",
          "data": {
            "text/plain": [
              "Counter({'be': 1, 'com': 9})"
            ]
          },
          "metadata": {},
          "execution_count": 22
        }
      ]
    },
    {
      "cell_type": "code",
      "source": [
        "ray.available_resources()"
      ],
      "metadata": {
        "colab": {
          "base_uri": "https://localhost:8080/"
        },
        "id": "n3H2WT5R9juU",
        "outputId": "8deb8285-339f-4517-c7b2-e958ccbdcd8b"
      },
      "execution_count": 4,
      "outputs": [
        {
          "output_type": "execute_result",
          "data": {
            "text/plain": [
              "{'CPU': 2.0,\n",
              " 'memory': 7877495195.0,\n",
              " 'node:172.28.0.2': 1.0,\n",
              " 'object_store_memory': 3938747596.0}"
            ]
          },
          "metadata": {},
          "execution_count": 4
        }
      ]
    },
    {
      "cell_type": "markdown",
      "source": [
        "## Ray Actors"
      ],
      "metadata": {
        "id": "6j1_1M0jCe0_"
      }
    },
    {
      "cell_type": "code",
      "source": [
        "import random\n",
        "from faker import Faker\n",
        "\n",
        "@ray.remote\n",
        "class Child(object):\n",
        "    def __init__(self):\n",
        "        self.name = Faker().name()\n",
        "        self.age = 1\n",
        "\n",
        "    def grow(self):\n",
        "        self.age += 1\n",
        "        return self.age\n",
        "\n",
        "    def greet(self):\n",
        "        return (\n",
        "            f'My name is {self.name} '\n",
        "            f'and I am {self.age} years old'\n",
        "        )"
      ],
      "metadata": {
        "id": "4X81DXx5BqB4"
      },
      "execution_count": 34,
      "outputs": []
    },
    {
      "cell_type": "code",
      "source": [
        "children = [Child.remote() for i in range(10)]"
      ],
      "metadata": {
        "id": "BEzrOPTlBvkd"
      },
      "execution_count": 35,
      "outputs": []
    },
    {
      "cell_type": "code",
      "source": [
        "for c in children:\n",
        "    for _ in range(random.randint(1, 10)):\n",
        "        c.grow.remote()"
      ],
      "metadata": {
        "id": "LP9gXudpBydE"
      },
      "execution_count": 36,
      "outputs": []
    },
    {
      "cell_type": "code",
      "source": [
        "futures = [c.greet.remote() for c in children]\n",
        "\n",
        "for future in ray.get(futures):\n",
        "    print(future)"
      ],
      "metadata": {
        "colab": {
          "base_uri": "https://localhost:8080/"
        },
        "id": "D29y1Mh6B2Oo",
        "outputId": "f0ccb35e-6c89-47e0-b0cb-fdd04cd021c3"
      },
      "execution_count": 37,
      "outputs": [
        {
          "output_type": "stream",
          "name": "stdout",
          "text": [
            "My name is Hannah Hull and I am 4 years old\n",
            "My name is Natalie Reed and I am 7 years old\n",
            "My name is Amanda Shaffer and I am 6 years old\n",
            "My name is Travis Johnson and I am 9 years old\n",
            "My name is Loretta Hanson and I am 11 years old\n",
            "My name is Jody Harrison and I am 5 years old\n",
            "My name is John Dunn and I am 3 years old\n",
            "My name is Max Page and I am 2 years old\n",
            "My name is Jonathan Lopez and I am 7 years old\n",
            "My name is Ricky Kelly and I am 7 years old\n"
          ]
        }
      ]
    },
    {
      "cell_type": "code",
      "source": [
        "c = children[0]"
      ],
      "metadata": {
        "id": "Gw3Ddd9VCKGG"
      },
      "execution_count": 39,
      "outputs": []
    },
    {
      "cell_type": "code",
      "source": [
        "ray.get(c.greet.remote())"
      ],
      "metadata": {
        "colab": {
          "base_uri": "https://localhost:8080/",
          "height": 35
        },
        "id": "7emo_4CKCMpX",
        "outputId": "e6647fe6-1e98-4b84-a3a5-960f40580c9c"
      },
      "execution_count": 41,
      "outputs": [
        {
          "output_type": "execute_result",
          "data": {
            "text/plain": [
              "'My name is Hannah Hull and I am 4 years old'"
            ],
            "application/vnd.google.colaboratory.intrinsic+json": {
              "type": "string"
            }
          },
          "metadata": {},
          "execution_count": 41
        }
      ]
    },
    {
      "cell_type": "code",
      "source": [
        "print(ray.get([c.grow.remote() for _ in range(5)]))"
      ],
      "metadata": {
        "colab": {
          "base_uri": "https://localhost:8080/"
        },
        "id": "nzl3Gh5MCPYv",
        "outputId": "eab332ed-97d4-4e83-de3f-4983b55ac44b"
      },
      "execution_count": 42,
      "outputs": [
        {
          "output_type": "stream",
          "name": "stdout",
          "text": [
            "[5, 6, 7, 8, 9]\n"
          ]
        }
      ]
    },
    {
      "cell_type": "code",
      "source": [
        "# actors stay around as long as they are in scope\n",
        "# since nothing really goes out of scope in a notebook\n",
        "# we have to manually terminate them\n",
        "[ ray.kill(person) for person in children ]"
      ],
      "metadata": {
        "colab": {
          "base_uri": "https://localhost:8080/"
        },
        "id": "GsQrjAMBCTYX",
        "outputId": "9dce573c-290f-480f-9ca6-206fa65a2be0"
      },
      "execution_count": 43,
      "outputs": [
        {
          "output_type": "execute_result",
          "data": {
            "text/plain": [
              "[None, None, None, None, None, None, None, None, None, None]"
            ]
          },
          "metadata": {},
          "execution_count": 43
        }
      ]
    },
    {
      "cell_type": "code",
      "source": [
        "# or just shutdown ray\n",
        "ray.shutdown()"
      ],
      "metadata": {
        "id": "hOuno2j8CWE6"
      },
      "execution_count": 44,
      "outputs": []
    }
  ]
}