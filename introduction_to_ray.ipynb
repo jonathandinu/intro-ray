{
  "nbformat": 4,
  "nbformat_minor": 0,
  "metadata": {
    "colab": {
      "name": "introduction-to-ray.ipynb",
      "provenance": [],
      "authorship_tag": "ABX9TyNZ6bUuf/lyEHAAFoY16Uiu",
      "include_colab_link": true
    },
    "kernelspec": {
      "name": "python3",
      "display_name": "Python 3"
    },
    "language_info": {
      "name": "python"
    }
  },
  "cells": [
    {
      "cell_type": "markdown",
      "metadata": {
        "id": "view-in-github",
        "colab_type": "text"
      },
      "source": [
        "<a href=\"https://colab.research.google.com/github/clearspandex/distributed-ml-ray/blob/main/introduction_to_ray.ipynb\" target=\"_parent\"><img src=\"https://colab.research.google.com/assets/colab-badge.svg\" alt=\"Open In Colab\"/></a>"
      ]
    },
    {
      "cell_type": "code",
      "execution_count": null,
      "metadata": {
        "id": "3SP8fcPUvSpb"
      },
      "outputs": [],
      "source": [
        ""
      ]
    }
  ]
}